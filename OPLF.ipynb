import numpy as np
from scipy.io import loadmat
import matplotlib.pyplot as plt
from datetime import datetime, date, time
import pandas as pd
# path = 
# filename = 
mat = loadmat('path/filename.mat')  # load .mat file
mdata = mat['data']  
mdtype = mdata.dtype 
data = {n: mdata[n][0, 0] for n in mdtype.names}
