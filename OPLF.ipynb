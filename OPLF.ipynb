{
  "nbformat": 4,
  "nbformat_minor": 0,
  "metadata": {
    "colab": {
      "name": "Copia de Untitled9.ipynb",
      "provenance": [],
      "collapsed_sections": []
    },
    "kernelspec": {
      "name": "python3",
      "display_name": "Python 3"
    },
    "accelerator": "GPU"
  },
  "cells": [
    {
      "cell_type": "code",
      "metadata": {
        "id": "JL5kH-7_2Fj6",
        "colab_type": "code",
        "colab": {}
      },
      "source": [
        "import numpy as np\n",
        "from scipy.io import loadmat\n",
        "import matplotlib.pyplot as plt\n",
        "from datetime import datetime, date, time\n",
        "import pandas as pd\n",
        "# path = \n",
        "# filename = \n",
        "mat = loadmat('path/filename.mat')  # load .mat file\n",
        "mdata = mat['data']  \n",
        "mdtype = mdata.dtype \n",
        "data = {n: mdata[n][0, 0] for n in mdtype.names}"
      ],
      "execution_count": 10,
      "outputs": []
    },
    {
      "cell_type": "code",
      "metadata": {
        "id": "WfqiKOfsZLh4",
        "colab_type": "code",
        "colab": {}
      },
      "source": [
        "def initialize(C, R):\n",
        "  # Initialize model parameters and state variables\n",
        "  import numpy as np\n",
        "  class Theta:\n",
        "    pass\n",
        "  class Gamma:\n",
        "    pass\n",
        "  a = Theta()\n",
        "  a.etad = np.zeros((2, C))\n",
        "  a.sigmad = np.zeros((1, C))\n",
        "  a.etar = np.zeros((R, C))\n",
        "  a.sigmar = np.zeros((1, C))\n",
        "  a.wt = np.zeros((1, C))\n",
        "  a.sigmat = np.zeros((1, C))\n",
        "  b = Gamma()\n",
        "  b.gammat = np.zeros((1, C))\n",
        "  b.Pt = np.zeros((1, C))\n",
        "  b.gammad = np.zeros((1, C))\n",
        "  b.gammar = np.zeros((1, C))\n",
        "  b.Pd = np.zeros((C, 2, 2))\n",
        "  b.Pr = np.zeros((C, R, R))\n",
        "  for i in range(C):\n",
        "    b.Pd[i] = np.eye(2)\n",
        "    b.Pr[i] = np.eye(R)\n",
        "  return a, b"
      ],
      "execution_count": 3,
      "outputs": []
    },
    {
      "cell_type": "code",
      "metadata": {
        "id": "lAMIrvngwnmZ",
        "colab_type": "code",
        "colab": {}
      },
      "source": [
        "def prediction(theta, x, C):\n",
        "  # prediction function\n",
        "  L = len(x[1])\n",
        "  pred_s = np.zeros((L+1, 1))\n",
        "  e = np.zeros((L+1, 1))\n",
        "  pred_s[0, 0] = x[0]\n",
        "  w = x[1:]\n",
        "  for i in range(L):\n",
        "    c = C[i]\n",
        "    ud = [1, pred_s[i, 0]]\n",
        "    ud = np.transpose(ud)\n",
        "    if theta.wt[0][c] - w[0][i][0] > 20 and (w[0][i][0] > 80 or w[0][i][0] < 20):\n",
        "      alpha1 = 1\n",
        "      alpha2 = 0\n",
        "    elif theta.wt[0][c] - w[0][i][0] < -20 and (w[0][i][0] > 80 or w[0][i][0] < 20):\n",
        "      alpha1 = 0\n",
        "      alpha2 = 1\n",
        "    else:\n",
        "      alpha1 = 0\n",
        "      alpha2 = 0\n",
        "    ur = np.transpose([1, alpha1, alpha2])\n",
        "    pred_s[i+1, 0] = (np.transpose(ud)@theta.etad[0:, c]*theta.sigmar[0][c]**2 + np.transpose(ur)@theta.etar[0:, c]*(theta.sigmad[0][c]**2 + ([0, 1]@theta.etad[0:, c])**2@e[i-1]))/(theta.sigmar[0][c]**2 + theta.sigmad[0][c]**2 + ([0, 1]@theta.etad[0:, c])**2@e[i-1])\n",
        "    e[i, 0] = np.sqrt(((theta.sigmad[0][c]**2 + ([0, 1]@theta.etad[0:, c])**2@e[i-1])@theta.sigmar[0][c]**2)/(theta.sigmar[0][c]**2 + theta.sigmad[0][c]**2 + ([0, 1]@theta.etad[0:, c])**2@e[i-1]))\n",
        "  # set_trace()\n",
        "  return pred_s[1:], e[1:]"
      ],
      "execution_count": 4,
      "outputs": []
    },
    {
      "cell_type": "code",
      "metadata": {
        "id": "d1fqvagKgutS",
        "colab_type": "code",
        "colab": {}
      },
      "source": [
        "def update_parameters(eta, sigma, P, gamma, l, s, u):\n",
        "  if np.size(P) > 1:\n",
        "    if P.trace() > 10:\n",
        "      P = np.eye(len(P))\n",
        "    P = (1/l)*(P - (P@u@u.T@P)/(l + u.T@P@u))\n",
        "    gamma = 1 + l*gamma\n",
        "    sigma = np.sqrt(sigma**2 - (1/gamma)*(sigma**2 - l*(s - eta@u)**2)/(l + u.T@P@u))\n",
        "    eta = eta + ((s - u.T@eta)/(l + u.T@P@u))*(P@u).T[0]\n",
        "  else:\n",
        "    if P > 10:\n",
        "      P = 1\n",
        "    P = (1/l)*(P - (P*u*np.transpose(u)*P)/(l + np.transpose(u)*P*u))\n",
        "    gamma = 1 + l*gamma\n",
        "    sigma = np.sqrt(sigma**2 - (1/gamma)*(sigma**2 - l*(s - u*eta)**2)/(l + u*P*u))\n",
        "    eta = eta + (P*u/(l + u*P*u))*(s - u*eta)\n",
        "  return eta.T, sigma, P, gamma"
      ],
      "execution_count": 5,
      "outputs": []
    },
    {
      "cell_type": "code",
      "metadata": {
        "id": "e4zOPaVjvisK",
        "colab_type": "code",
        "colab": {}
      },
      "source": [
        "def test(predictions, load_demand):\n",
        "  n = len(predictions)\n",
        "  m = np.zeros(n)\n",
        "  r = np.zeros(n)\n",
        "  for i in range(n):\n",
        "    m[i] = np.abs(predictions[i] - load_demand[i])/load_demand[i]\n",
        "    r[i] = (predictions[i] - load_demand[i])**2\n",
        "  MAPE = 100*np.nanmean(m)\n",
        "  RMSE = np.sqrt(np.nanmean(r))\n",
        "  return MAPE, RMSE"
      ],
      "execution_count": 6,
      "outputs": []
    },
    {
      "cell_type": "code",
      "metadata": {
        "id": "fBAcri1Bl-cd",
        "colab_type": "code",
        "colab": {}
      },
      "source": [
        "def update_model(Theta, Gamma, y, x, c, lambdad, lambdar):\n",
        "  # Update model\n",
        "  s0 = x[0]\n",
        "  w = x[1:]\n",
        "  L = len(y)\n",
        "  y = [s0, y[0:]]\n",
        "  for i in range(L):\n",
        "    [Theta.wt[0][c[i]], Theta.sigmat[0,c[i]], Gamma.Pt[0,c[i]], Gamma.gammat[0,c[i]]] = update_parameters(Theta.wt[0,c[i][0]], Theta.sigmat[0,c[i][0]], Gamma.Pt[0,c[i][0]], Gamma.gammat[0, c[i][0]], 1, w[0][i][0], 1)\n",
        "    if Theta.wt[0][c[i]] - w[0][i][0] > 20 and (w[0][i][0] > 80 or w[0][i][0] < 20):\n",
        "      alpha1 = 1\n",
        "      alpha2 = 0\n",
        "    elif Theta.wt[0][c[i]] - w[0][i][0] < -20 and (w[0][i][0] > 80 or w[0][i][0] < 20):\n",
        "      alpha1 = 0\n",
        "      alpha2 = 1\n",
        "    else:\n",
        "      alpha1 = 0\n",
        "      alpha2 = 0\n",
        "    ud = np.ones((2, 1))\n",
        "    ud[1, 0] = y[1][i][0]\n",
        "    # set_trace()\n",
        "    [Theta.etad[0:, c[i]], Theta.sigmad[0, c[i]], Gamma.Pd[c[i][0]], Gamma.gammad[0, c[i]]] = update_parameters(Theta.etad[0:, c[i][0]], Theta.sigmad[0, c[i][0]], Gamma.Pd[c[i][0]], Gamma.gammad[0, c[i][0]], lambdad, y[1][i], ud)\n",
        "    ur = np.ones((3, 1))\n",
        "    ur[1, 0] = alpha1\n",
        "    ur[2, 0] = alpha2\n",
        "    [Theta.etar[0:, c[i]], Theta.sigmar[0][c[i]], Gamma.Pr[c[i][0]], Gamma.gammar[0][c[i]]] = update_parameters(Theta.etar[0:, c[i][0]], Theta.sigmar[0][c[i][0]], Gamma.Pr[c[i][0]], Gamma.gammar[0][c[i][0]], lambdar, y[1][i], ur)\n",
        "  return Theta, Gamma"
      ],
      "execution_count": 7,
      "outputs": []
    },
    {
      "cell_type": "code",
      "metadata": {
        "id": "2EwdX7swIV4g",
        "colab_type": "code",
        "colab": {}
      },
      "source": [
        "def OPLF(data, days_train, lambdad, lambdar, L, C, R):\n",
        "  # [MAPE, RMSE, predictions, load_demand] = OPLF(data, 300, 0.2, 0.7, 24, 48, 3)\n",
        "  # data.consumption = data.demand\n",
        "  # days_train > 1 number of training days\n",
        "  # lambdad = 0.2 forgetting factor\n",
        "  # lambdar = 0.7 forgetting factor\n",
        "  # L = 24 prediction horizon (hours)\n",
        "  # C = 48 length of the calendar information\n",
        "  # R = 3 length of feature vector of observations\n",
        "  import numpy as np\n",
        "  n = len(data.get('consumption'))\n",
        "  consumption = data.get('consumption')\n",
        "  c = data.get('C')\n",
        "  temperature = data.get('temperature')\n",
        "  n_train = 24*days_train\n",
        "  [Theta, Gamma] = initialize(C, R)\n",
        "  predictions = []\n",
        "  estimated_errors = []\n",
        "  load_demand = []\n",
        "  for i in range(n_train - L+1):\n",
        "    s0 = consumption[i]\n",
        "    w = temperature[i+1:i+L+1]\n",
        "    x = [s0, w]\n",
        "    y = consumption[i+1:i+L+1]\n",
        "    cal = c[i+1:i+L+1]\n",
        "    [Theta, Gamma] = update_model(Theta, Gamma, y, x, cal, lambdad, lambdar)\n",
        "  for j in range(i+L+1, n-L+1, L):\n",
        "    s0 = consumption[j]\n",
        "    w = temperature[j+1:j+L+1]\n",
        "    [pred_s, e] = prediction(Theta, x, c[j+1:j+L+1])\n",
        "    predictions = np.append(predictions, np.transpose(pred_s))\n",
        "    estimated_errors = np.append(estimated_errors, np.transpose(e))\n",
        "    y = consumption[j+1:j+L+1]\n",
        "    load_demand = np.append(load_demand, np.transpose(y))\n",
        "    [Theta, Gamma] = update_model(Theta, Gamma, y, x, c[j+1:j+L+1], lambdad, lambdar)\n",
        "  [MAPE, RMSE] = test(predictions, load_demand)\n",
        "  return MAPE, RMSE, predictions, load_demand"
      ],
      "execution_count": 8,
      "outputs": []
    },
    {
      "cell_type": "code",
      "metadata": {
        "id": "Btm3HotPfTw6",
        "colab_type": "code",
        "colab": {}
      },
      "source": [
        "[MAPE, RMSE, predictions, load_demand] = OPLF(data, 300, 0.2, 0.7, 24, 48, 3)"
      ],
      "execution_count": null,
      "outputs": []
    }
  ]
}